{
 "cells": [
  {
   "cell_type": "code",
   "execution_count": 1,
   "id": "d0dd3861-c58c-4568-8ac5-78b5dd9b1f18",
   "metadata": {},
   "outputs": [
    {
     "name": "stdout",
     "output_type": "stream",
     "text": [
      "Requirement already satisfied: langchain in /Library/Frameworks/Python.framework/Versions/3.12/lib/python3.12/site-packages (0.2.2)\n",
      "Collecting kor\n",
      "  Downloading kor-1.0.1-py3-none-any.whl.metadata (7.0 kB)\n",
      "Requirement already satisfied: PyYAML>=5.3 in /Library/Frameworks/Python.framework/Versions/3.12/lib/python3.12/site-packages (from langchain) (6.0.1)\n",
      "Requirement already satisfied: SQLAlchemy<3,>=1.4 in /Library/Frameworks/Python.framework/Versions/3.12/lib/python3.12/site-packages (from langchain) (2.0.30)\n",
      "Requirement already satisfied: aiohttp<4.0.0,>=3.8.3 in /Library/Frameworks/Python.framework/Versions/3.12/lib/python3.12/site-packages (from langchain) (3.9.5)\n",
      "Requirement already satisfied: langchain-core<0.3.0,>=0.2.0 in /Library/Frameworks/Python.framework/Versions/3.12/lib/python3.12/site-packages (from langchain) (0.2.4)\n",
      "Requirement already satisfied: langchain-text-splitters<0.3.0,>=0.2.0 in /Library/Frameworks/Python.framework/Versions/3.12/lib/python3.12/site-packages (from langchain) (0.2.1)\n",
      "Requirement already satisfied: langsmith<0.2.0,>=0.1.17 in /Library/Frameworks/Python.framework/Versions/3.12/lib/python3.12/site-packages (from langchain) (0.1.69)\n",
      "Requirement already satisfied: numpy<2,>=1 in /Library/Frameworks/Python.framework/Versions/3.12/lib/python3.12/site-packages (from langchain) (1.26.4)\n",
      "Requirement already satisfied: pydantic<3,>=1 in /Library/Frameworks/Python.framework/Versions/3.12/lib/python3.12/site-packages (from langchain) (2.7.3)\n",
      "Requirement already satisfied: requests<3,>=2 in /Library/Frameworks/Python.framework/Versions/3.12/lib/python3.12/site-packages (from langchain) (2.32.2)\n",
      "Requirement already satisfied: tenacity<9.0.0,>=8.1.0 in /Library/Frameworks/Python.framework/Versions/3.12/lib/python3.12/site-packages (from langchain) (8.3.0)\n",
      "Collecting pandas<2.0.0,>=1.5.3 (from kor)\n",
      "  Downloading pandas-1.5.3.tar.gz (5.2 MB)\n",
      "\u001b[2K     \u001b[90m━━━━━━━━━━━━━━━━━━━━━━━━━━━━━━━━━━━━━━━━\u001b[0m \u001b[32m5.2/5.2 MB\u001b[0m \u001b[31m22.3 MB/s\u001b[0m eta \u001b[36m0:00:00\u001b[0m00:01\u001b[0m00:01\u001b[0m\n",
      "\u001b[?25h  Installing build dependencies ... \u001b[?25ldone\n",
      "\u001b[?25h  Getting requirements to build wheel ... \u001b[?25ldone\n",
      "\u001b[?25h  Preparing metadata (pyproject.toml) ... \u001b[?25ldone\n",
      "\u001b[?25hRequirement already satisfied: aiosignal>=1.1.2 in /Library/Frameworks/Python.framework/Versions/3.12/lib/python3.12/site-packages (from aiohttp<4.0.0,>=3.8.3->langchain) (1.3.1)\n",
      "Requirement already satisfied: attrs>=17.3.0 in /Library/Frameworks/Python.framework/Versions/3.12/lib/python3.12/site-packages (from aiohttp<4.0.0,>=3.8.3->langchain) (23.2.0)\n",
      "Requirement already satisfied: frozenlist>=1.1.1 in /Library/Frameworks/Python.framework/Versions/3.12/lib/python3.12/site-packages (from aiohttp<4.0.0,>=3.8.3->langchain) (1.4.1)\n",
      "Requirement already satisfied: multidict<7.0,>=4.5 in /Library/Frameworks/Python.framework/Versions/3.12/lib/python3.12/site-packages (from aiohttp<4.0.0,>=3.8.3->langchain) (6.0.5)\n",
      "Requirement already satisfied: yarl<2.0,>=1.0 in /Library/Frameworks/Python.framework/Versions/3.12/lib/python3.12/site-packages (from aiohttp<4.0.0,>=3.8.3->langchain) (1.9.4)\n",
      "Requirement already satisfied: jsonpatch<2.0,>=1.33 in /Library/Frameworks/Python.framework/Versions/3.12/lib/python3.12/site-packages (from langchain-core<0.3.0,>=0.2.0->langchain) (1.33)\n",
      "Requirement already satisfied: packaging<24.0,>=23.2 in /Library/Frameworks/Python.framework/Versions/3.12/lib/python3.12/site-packages (from langchain-core<0.3.0,>=0.2.0->langchain) (23.2)\n",
      "Requirement already satisfied: orjson<4.0.0,>=3.9.14 in /Library/Frameworks/Python.framework/Versions/3.12/lib/python3.12/site-packages (from langsmith<0.2.0,>=0.1.17->langchain) (3.10.3)\n",
      "Requirement already satisfied: python-dateutil>=2.8.1 in /Library/Frameworks/Python.framework/Versions/3.12/lib/python3.12/site-packages (from pandas<2.0.0,>=1.5.3->kor) (2.9.0.post0)\n",
      "Requirement already satisfied: pytz>=2020.1 in /Library/Frameworks/Python.framework/Versions/3.12/lib/python3.12/site-packages (from pandas<2.0.0,>=1.5.3->kor) (2024.1)\n",
      "Requirement already satisfied: annotated-types>=0.4.0 in /Library/Frameworks/Python.framework/Versions/3.12/lib/python3.12/site-packages (from pydantic<3,>=1->langchain) (0.7.0)\n",
      "Requirement already satisfied: pydantic-core==2.18.4 in /Library/Frameworks/Python.framework/Versions/3.12/lib/python3.12/site-packages (from pydantic<3,>=1->langchain) (2.18.4)\n",
      "Requirement already satisfied: typing-extensions>=4.6.1 in /Library/Frameworks/Python.framework/Versions/3.12/lib/python3.12/site-packages (from pydantic<3,>=1->langchain) (4.12.0)\n",
      "Requirement already satisfied: charset-normalizer<4,>=2 in /Library/Frameworks/Python.framework/Versions/3.12/lib/python3.12/site-packages (from requests<3,>=2->langchain) (3.3.2)\n",
      "Requirement already satisfied: idna<4,>=2.5 in /Library/Frameworks/Python.framework/Versions/3.12/lib/python3.12/site-packages (from requests<3,>=2->langchain) (3.7)\n",
      "Requirement already satisfied: urllib3<3,>=1.21.1 in /Library/Frameworks/Python.framework/Versions/3.12/lib/python3.12/site-packages (from requests<3,>=2->langchain) (2.2.1)\n",
      "Requirement already satisfied: certifi>=2017.4.17 in /Library/Frameworks/Python.framework/Versions/3.12/lib/python3.12/site-packages (from requests<3,>=2->langchain) (2024.2.2)\n",
      "Requirement already satisfied: jsonpointer>=1.9 in /Library/Frameworks/Python.framework/Versions/3.12/lib/python3.12/site-packages (from jsonpatch<2.0,>=1.33->langchain-core<0.3.0,>=0.2.0->langchain) (2.4)\n",
      "Requirement already satisfied: six>=1.5 in /Library/Frameworks/Python.framework/Versions/3.12/lib/python3.12/site-packages (from python-dateutil>=2.8.1->pandas<2.0.0,>=1.5.3->kor) (1.16.0)\n",
      "Downloading kor-1.0.1-py3-none-any.whl (30 kB)\n",
      "Building wheels for collected packages: pandas\n",
      "  Building wheel for pandas (pyproject.toml) ... \u001b[?25ldone\n",
      "\u001b[?25h  Created wheel for pandas: filename=pandas-1.5.3-cp312-cp312-macosx_10_9_universal2.whl size=17005332 sha256=af0c9cf14c295427fbb17f2441faa9ebf6a43096fb28709e9b1db90dbfb5bc76\n",
      "  Stored in directory: /Users/jity/Library/Caches/pip/wheels/fb/83/18/8e7307aa1185c5498c5490e4d9c8a1732d9f1056e86c3491c6\n",
      "Successfully built pandas\n",
      "Installing collected packages: pandas, kor\n",
      "  Attempting uninstall: pandas\n",
      "    Found existing installation: pandas 2.2.2\n",
      "    Uninstalling pandas-2.2.2:\n",
      "      Successfully uninstalled pandas-2.2.2\n",
      "Successfully installed kor-1.0.1 pandas-1.5.3\n"
     ]
    }
   ],
   "source": [
    "!pip install langchain kor"
   ]
  },
  {
   "cell_type": "code",
   "execution_count": 6,
   "id": "060f0524-30de-4ee2-976e-84f672ac1dda",
   "metadata": {},
   "outputs": [],
   "source": [
    "from langchain.chat_models import ChatOpenAI\n",
    "from kor import create_extraction_chain, Object, Text"
   ]
  },
  {
   "cell_type": "code",
   "execution_count": 7,
   "id": "0ef4d41c-a921-4b33-836d-bf3f213cd23b",
   "metadata": {},
   "outputs": [],
   "source": [
    "import os\n",
    "import getpass"
   ]
  },
  {
   "cell_type": "code",
   "execution_count": 10,
   "id": "44b161da-286c-41e1-bdef-78e0a5f8081b",
   "metadata": {},
   "outputs": [
    {
     "name": "stdin",
     "output_type": "stream",
     "text": [
      " ········\n"
     ]
    }
   ],
   "source": [
    "os.environ[\"OPENAI_API_KEY\"] = getpass.getpass()"
   ]
  },
  {
   "cell_type": "code",
   "execution_count": 15,
   "id": "2754ae4b-2819-4f7d-af7f-7d464a9ee0f0",
   "metadata": {},
   "outputs": [],
   "source": [
    "llm = ChatOpenAI(model_name=\"gpt-4o\")"
   ]
  },
  {
   "cell_type": "code",
   "execution_count": 16,
   "id": "3b14c034-9561-4060-862c-e203f50860ed",
   "metadata": {},
   "outputs": [],
   "source": [
    "schema = Object(\n",
    "    id=\"task manager\",\n",
    "    description=\"User is specifying what changes to apply to their calendar\",\n",
    "    attributes=[\n",
    "        Text(\n",
    "            id=\"action\",\n",
    "            description=\"This is the the verb associated with the change the user wants to apply to their calendar. Most common examples are creating, deleting, updating, viewing the user's scehdule.\",\n",
    "            many=True,\n",
    "            examples=[\n",
    "                (\"Schedule a meeting with the marketing team for next Monday at 10 AM.\", \"Create\"),\n",
    "                (\"Change my meeting with John on Thursday to Friday at 2 PM.\", \"Update\"),\n",
    "                (\"Cancel my lunch meeting with Sarah tomorrow.\", \"Delete\"),\n",
    "                (\"Show me my calendar for the week.\", \"View\"),\n",
    "                (\"When am I free this week for a 2-hour meeting?\", \"View\"),\n",
    "                (\"Block off time for focused work from 9 AM to 12 PM every day.\", \"Create\"),\n",
    "                (\"Reserve the next Saturday afternoon for personal time.\", \"Create\"),\n",
    "                (\"Find a time when I can schedule a workout session.\", \"View\"),\n",
    "            ]\n",
    "        ),\n",
    "        Text(\n",
    "            id=\"time/date\",\n",
    "            description=\"This is the time and date of the event or new change that the user wants to apply.\",\n",
    "            many=True,\n",
    "            examples=[\n",
    "                (\"Schedule a meeting with the marketing team for next Monday at 10 AM.\", \"Monday, 10 AM\"),\n",
    "                (\"Change my meeting with John on Thursday to Friday at 2 PM.\", \"Friday, 2 PM\"),\n",
    "                (\"Cancel my lunch meeting with Sarah tomorrow.\", \"Tomorrow\"),\n",
    "                (\"Block off time for focused work from 9 AM to 12 PM every day.\", \"Every day, 9 AM to 12 PM\"),\n",
    "                (\"Reserve the next Saturday afternoon for personal time.\", \"Saturday, afternoon\"),\n",
    "                (\"Find a time when I can schedule a workout session.\", \"\"),\n",
    "            ]\n",
    "        ),\n",
    "        Text(\n",
    "            id=\"event\",\n",
    "            description=\"This is a short description of what the user would be doing (or would have been doing if the action was to cancel) in the specified time/date.\",\n",
    "            many=True,\n",
    "            examples=[\n",
    "                (\"Schedule a meeting with the marketing team for next Monday at 10 AM.\", \"Meeting with the marketing team\"),\n",
    "                (\"Change my meeting with John on Thursday to Friday at 2 PM.\", \"Meeting with John\"),\n",
    "                (\"Cancel my lunch meeting with Sarah tomorrow.\", \"Meeting with Sarah\"),\n",
    "                (\"Block off time for focused work from 9 AM to 12 PM every day.\", \"Focused work\"),\n",
    "                (\"Reserve the next Saturday afternoon for personal time.\", \"Personal time\"),\n",
    "                (\"Find a time when I can schedule a workout session.\", \"Workout session\"),\n",
    "            ]\n",
    "        )\n",
    "    ]\n",
    ")"
   ]
  },
  {
   "cell_type": "code",
   "execution_count": 17,
   "id": "14db7945-7499-4235-a0d6-db94f7c9f157",
   "metadata": {},
   "outputs": [],
   "source": [
    "chain = create_extraction_chain(llm, schema, encoder_or_encoder_class=\"json\")"
   ]
  },
  {
   "cell_type": "code",
   "execution_count": 21,
   "id": "9b1420a0-59a2-4ef1-b0ae-81e5257204a8",
   "metadata": {},
   "outputs": [
    {
     "data": {
      "text/plain": [
       "{'task manager': {'action': ['Create'],\n",
       "  'time/date': ['End of the day'],\n",
       "  'event': ['Review project proposal']}}"
      ]
     },
     "execution_count": 21,
     "metadata": {},
     "output_type": "execute_result"
    }
   ],
   "source": [
    "chain.invoke(\"Create a task to 'Review project proposal' due by end of the day.\")[\"text\"][\"data\"]"
   ]
  },
  {
   "cell_type": "code",
   "execution_count": null,
   "id": "fd9f1229-a91f-4460-8f3d-bbd3430e71d5",
   "metadata": {},
   "outputs": [],
   "source": []
  }
 ],
 "metadata": {
  "kernelspec": {
   "display_name": "Python 3 (ipykernel)",
   "language": "python",
   "name": "python3"
  },
  "language_info": {
   "codemirror_mode": {
    "name": "ipython",
    "version": 3
   },
   "file_extension": ".py",
   "mimetype": "text/x-python",
   "name": "python",
   "nbconvert_exporter": "python",
   "pygments_lexer": "ipython3",
   "version": "3.12.1"
  }
 },
 "nbformat": 4,
 "nbformat_minor": 5
}
